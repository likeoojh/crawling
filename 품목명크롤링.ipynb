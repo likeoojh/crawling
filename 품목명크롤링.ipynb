{
 "cells": [
  {
   "cell_type": "code",
   "execution_count": 2,
   "id": "555540f2-e8be-4d00-83be-9ca302f7a249",
   "metadata": {},
   "outputs": [],
   "source": [
    "import requests\n",
    "from bs4 import BeautifulSoup"
   ]
  },
  {
   "cell_type": "code",
   "execution_count": 108,
   "id": "79e1d105-0e15-4887-a603-35a10c1dcaef",
   "metadata": {},
   "outputs": [],
   "source": [
    "base_url = \"https://search.shopping.naver.com/search/all?query=\"\n",
    "keyword = '휴대폰 거치대'\n",
    "\n",
    "search_url = base_url + keyword"
   ]
  },
  {
   "cell_type": "code",
   "execution_count": 158,
   "id": "e0857053-e6c3-44ef-932a-61f175e772cb",
   "metadata": {},
   "outputs": [
    {
     "data": {
      "text/plain": [
       "'https://search.shopping.naver.com/search/all?query=휴대폰 거치대'"
      ]
     },
     "execution_count": 158,
     "metadata": {},
     "output_type": "execute_result"
    }
   ],
   "source": [
    "search_url"
   ]
  },
  {
   "cell_type": "code",
   "execution_count": 109,
   "id": "cda652d6-8e52-4c33-b763-2123a51f75bc",
   "metadata": {},
   "outputs": [],
   "source": [
    "r = requests.get(search_url)"
   ]
  },
  {
   "cell_type": "code",
   "execution_count": 110,
   "id": "ff6be089-9007-4f9e-a9b5-3ac64c1e0618",
   "metadata": {},
   "outputs": [],
   "source": [
    "soup = BeautifulSoup(r.text, \"html.parser\")"
   ]
  },
  {
   "cell_type": "code",
   "execution_count": 111,
   "id": "4fcaa6d1-69ef-4829-9e16-0d1d6894276d",
   "metadata": {},
   "outputs": [],
   "source": [
    "items = soup.select_one('.adProduct_depth__s_IUT') # 카테고리 전체 클래스 "
   ]
  },
  {
   "cell_type": "code",
   "execution_count": 113,
   "id": "d9af3a9e-9039-47c0-a59c-62c68d6f72e7",
   "metadata": {},
   "outputs": [],
   "source": [
    "item_list = items.select(\".adProduct_category__ZIAfP.adProduct_nohover__zHCEV\") # 세부 카테고리 클래스"
   ]
  },
  {
   "cell_type": "code",
   "execution_count": 160,
   "id": "28ddf096-7338-475f-8581-71b186bc1e4a",
   "metadata": {},
   "outputs": [],
   "source": [
    "item_list_len = len(item_list)"
   ]
  },
  {
   "cell_type": "code",
   "execution_count": 147,
   "id": "f79492e1-d281-4013-86eb-7f2019c33bdd",
   "metadata": {},
   "outputs": [],
   "source": [
    "cate_list = []\n",
    "\n",
    "cate_list.append(keyword)\n",
    "for i in range(item_list_len):\n",
    "    cate_list.append(item_list[i].text)\n",
    "if item_list_len == 3:\n",
    "    cate_list.append('')"
   ]
  },
  {
   "cell_type": "code",
   "execution_count": 149,
   "id": "8484eaa3-13b8-487f-b4c0-72690dd9e36b",
   "metadata": {},
   "outputs": [
    {
     "data": {
      "text/plain": [
       "['휴대폰 거치대', '디지털/가전', '휴대폰액세서리', '휴대폰거치대', '']"
      ]
     },
     "execution_count": 149,
     "metadata": {},
     "output_type": "execute_result"
    }
   ],
   "source": [
    "cate_list"
   ]
  },
  {
   "cell_type": "code",
   "execution_count": 132,
   "id": "ab7579cf-ddb7-4013-807f-f0f8e7b5aa37",
   "metadata": {},
   "outputs": [],
   "source": [
    "x = pd.DataFrame(cate_list)"
   ]
  },
  {
   "cell_type": "code",
   "execution_count": 118,
   "id": "aa901608-ad17-4297-b344-5662df3cf18a",
   "metadata": {},
   "outputs": [],
   "source": [
    "import pandas as pd"
   ]
  },
  {
   "cell_type": "code",
   "execution_count": 156,
   "id": "fd5e2e57-7f16-4e39-ae23-d5652f1e6fa5",
   "metadata": {},
   "outputs": [],
   "source": [
    "df = pd.DataFrame( {'keyword': cate_list[0]} , index = [0])"
   ]
  },
  {
   "cell_type": "code",
   "execution_count": null,
   "id": "3f52fd6c-b2d8-4408-ab84-de6b0190e5ba",
   "metadata": {},
   "outputs": [],
   "source": []
  }
 ],
 "metadata": {
  "kernelspec": {
   "display_name": "Python 3 (ipykernel)",
   "language": "python",
   "name": "python3"
  },
  "language_info": {
   "codemirror_mode": {
    "name": "ipython",
    "version": 3
   },
   "file_extension": ".py",
   "mimetype": "text/x-python",
   "name": "python",
   "nbconvert_exporter": "python",
   "pygments_lexer": "ipython3",
   "version": "3.9.7"
  }
 },
 "nbformat": 4,
 "nbformat_minor": 5
}
